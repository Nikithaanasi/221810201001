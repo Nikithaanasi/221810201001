{
 "cells": [
  {
   "cell_type": "markdown",
   "metadata": {},
   "source": [
    "### Day objectives\n",
    " * python data structures\n",
    "    * lists\n",
    "    * tuples\n",
    "    * dictionaries\n",
    " * basic prgram sets on data structures\n",
    " * advanced problem set\n",
    " * contact application(dictionary object)\n",
    " ### Data Structures:\n",
    " * to store,search and sort the data"
   ]
  },
  {
   "cell_type": "markdown",
   "metadata": {},
   "source": [
    "### Python Data Structures\n",
    "#### lists\n",
    "* it is one of the common data structures supports by python, the list items are seperated by comma operater and enclodes in square brackets.\n",
    " * example:\n",
    "     *  list1=[1,3,6,8]\n",
    "     *  list2=[\"gitam\",10,23,15,\"hyd\"]"
   ]
  },
  {
   "cell_type": "code",
   "execution_count": 76,
   "metadata": {},
   "outputs": [
    {
     "name": "stdout",
     "output_type": "stream",
     "text": [
      "[1, 2, 3, 4]\n",
      "1\n",
      "2\n",
      "4\n",
      "[2, 3, 4]\n",
      "[3, 4]\n",
      "[2, 3, 4]\n",
      "[3, 4]\n"
     ]
    }
   ],
   "source": [
    "lst=[1,2,3,4]\n",
    "print(lst)# access the entire list\n",
    "print(lst[0])# access the first item in list\n",
    "print(lst[1])# access the second item in list\n",
    "print(lst[-1])# access the last item in list\n",
    "print(lst[1:])# access the all item after 1 in list\n",
    "print(lst[2:])# access all the items from 2nd item\n",
    "print(lst[1:4])# access all the numbers from 1 to end number\n",
    "print(lst[2:4])"
   ]
  },
  {
   "cell_type": "code",
   "execution_count": 34,
   "metadata": {},
   "outputs": [
    {
     "name": "stdout",
     "output_type": "stream",
     "text": [
      "['gitam', 'python', 1989, 2002]\n",
      "['gitam', 'python', 2019, 2002]\n"
     ]
    }
   ],
   "source": [
    "lst=[\"gitam\",\"python\",1989,2002] # updatind the list item values using index(direct referencing)\n",
    "print(lst)\n",
    "lst[2]=2019\n",
    "print(lst)\n"
   ]
  },
  {
   "cell_type": "code",
   "execution_count": 28,
   "metadata": {},
   "outputs": [
    {
     "name": "stdout",
     "output_type": "stream",
     "text": [
      "['gitam', 'python', 2019, 2002]\n",
      "['gitam', 'python', 2002]\n"
     ]
    }
   ],
   "source": [
    "# delete the specific item in the list\n",
    "print(lst)\n",
    "del lst[2]\n",
    "print(lst)"
   ]
  },
  {
   "cell_type": "code",
   "execution_count": 39,
   "metadata": {},
   "outputs": [
    {
     "name": "stdout",
     "output_type": "stream",
     "text": [
      "5\n",
      "[1, 2, 5, 8, 9, 1, 2, 5, 8, 9]\n",
      "5\n",
      "True\n",
      "False\n",
      "1 2 5 8 9 "
     ]
    }
   ],
   "source": [
    "# basic list operations\n",
    "lst=[1,2,5,8,9]\n",
    "print(len(lst)) #length of the list\n",
    "print(lst*2) # it duplicates the list two times\n",
    "print(len(lst)) # len doesnot change if it duplicates\n",
    "print(9 in lst) # checks for the number is present or not if present give true esle false\n",
    "print(19 in lst)\n",
    "# access the list items using iteration\n",
    "for x in range(len(lst)):\n",
    "    print(lst[x],end=\" \")"
   ]
  },
  {
   "cell_type": "code",
   "execution_count": 51,
   "metadata": {},
   "outputs": [
    {
     "name": "stdout",
     "output_type": "stream",
     "text": [
      "1\n",
      "25\n",
      "9\n",
      "5.0\n",
      "5.0\n"
     ]
    }
   ],
   "source": [
    "# fuction of the list \n",
    "lst\n",
    "print(min(lst))# gives small number in list\n",
    "print(sum(lst))# gives sum number in list\n",
    "print(max(lst))# gives big number in list\n",
    "print(sum(lst)/len(lst))#gives average of the list\n",
    "print(sum(lst[1::2])/len(lst[1::2]))# gives average of alternate numbers in list"
   ]
  },
  {
   "cell_type": "code",
   "execution_count": 56,
   "metadata": {},
   "outputs": [
    {
     "data": {
      "text/plain": [
       "[1, 8, 9, 23, 24, 24, 24, 24, 24, 32, 43, 23, 32, 43]"
      ]
     },
     "execution_count": 56,
     "metadata": {},
     "output_type": "execute_result"
    }
   ],
   "source": [
    "lst\n",
    "lst.append(24)# adding a new element at the end of the list\n",
    "lst\n",
    "lst.insert(2,56)#adding an element at particular index\n",
    "lst\n",
    "lst.count(18)# return the value how many times the object repated\n",
    "lst\n",
    "lst.index(56)\n",
    "lst\n",
    "lst.sort()# it sort the list in acending order\n",
    "lst\n",
    "lst.pop()# remove last element from the list\n",
    "lst\n",
    "lst.pop(1)# remove last element from a particular index\n",
    "lst2=[23,32,43]\n",
    "lst.extend(lst2)# merge the list2 into list\n",
    "lst"
   ]
  },
  {
   "cell_type": "code",
   "execution_count": 59,
   "metadata": {},
   "outputs": [
    {
     "name": "stdout",
     "output_type": "stream",
     "text": [
      "[3, 2]\n"
     ]
    }
   ],
   "source": [
    "lst=[1,9,8,2,6,3]\n",
    "print(lst[-1:2:-2])"
   ]
  },
  {
   "cell_type": "code",
   "execution_count": 63,
   "metadata": {},
   "outputs": [
    {
     "data": {
      "text/plain": [
       "[1, 9, 56, 8, 2, 6, 3, 24, 24, 24]"
      ]
     },
     "execution_count": 63,
     "metadata": {},
     "output_type": "execute_result"
    }
   ],
   "source": [
    "lst.insert(2,56)\n",
    "lst"
   ]
  },
  {
   "cell_type": "code",
   "execution_count": 64,
   "metadata": {},
   "outputs": [
    {
     "data": {
      "text/plain": [
       "1"
      ]
     },
     "execution_count": 64,
     "metadata": {},
     "output_type": "execute_result"
    }
   ],
   "source": [
    "lst.count(3)"
   ]
  },
  {
   "cell_type": "code",
   "execution_count": 65,
   "metadata": {},
   "outputs": [
    {
     "data": {
      "text/plain": [
       "2"
      ]
     },
     "execution_count": 65,
     "metadata": {},
     "output_type": "execute_result"
    }
   ],
   "source": [
    "lst.index(56)"
   ]
  },
  {
   "cell_type": "code",
   "execution_count": 67,
   "metadata": {},
   "outputs": [
    {
     "data": {
      "text/plain": [
       "[1, 2, 3, 6, 8, 9, 24, 24, 24, 56]"
      ]
     },
     "execution_count": 67,
     "metadata": {},
     "output_type": "execute_result"
    }
   ],
   "source": [
    "lst.sort()\n",
    "lst"
   ]
  },
  {
   "cell_type": "code",
   "execution_count": 68,
   "metadata": {},
   "outputs": [
    {
     "data": {
      "text/plain": [
       "[1, 2, 3, 6, 8, 9, 24, 24, 24]"
      ]
     },
     "execution_count": 68,
     "metadata": {},
     "output_type": "execute_result"
    }
   ],
   "source": [
    "lst.pop()\n",
    "lst"
   ]
  },
  {
   "cell_type": "code",
   "execution_count": 69,
   "metadata": {},
   "outputs": [
    {
     "data": {
      "text/plain": [
       "[1, 3, 6, 8, 9, 24, 24, 24]"
      ]
     },
     "execution_count": 69,
     "metadata": {},
     "output_type": "execute_result"
    }
   ],
   "source": [
    "lst.pop(1)\n",
    "lst"
   ]
  },
  {
   "cell_type": "code",
   "execution_count": 73,
   "metadata": {},
   "outputs": [
    {
     "data": {
      "text/plain": [
       "[1, 3, 6, 8, 9, 24, 24]"
      ]
     },
     "execution_count": 73,
     "metadata": {},
     "output_type": "execute_result"
    }
   ],
   "source": [
    "lst.remove(24)\n",
    "lst"
   ]
  },
  {
   "cell_type": "code",
   "execution_count": 85,
   "metadata": {},
   "outputs": [
    {
     "data": {
      "text/plain": [
       "6"
      ]
     },
     "execution_count": 85,
     "metadata": {},
     "output_type": "execute_result"
    }
   ],
   "source": [
    "# for second large item from list\n",
    "# input:lst=[1,19,6,2,8,18,3]\n",
    "# output: 18\n",
    "def secondlarge(lst):\n",
    "    lst.sort()\n",
    "    return lst[-2]\n",
    "def genericlarge(lst,n):\n",
    "    lst.sort()\n",
    "    return lst[-n]\n",
    "lst=[1,19,6,2,8,18,3]\n",
    "genericlarge(lst,4)"
   ]
  },
  {
   "cell_type": "code",
   "execution_count": 86,
   "metadata": {},
   "outputs": [
    {
     "data": {
      "text/plain": [
       "2"
      ]
     },
     "execution_count": 86,
     "metadata": {},
     "output_type": "execute_result"
    }
   ],
   "source": [
    "# second least element\n",
    "def secondleast(lst):\n",
    "    lst.sort()\n",
    "    return lst[1]\n",
    "lst=[1,19,6,2,8,18,3]\n",
    "secondleast(lst)"
   ]
  },
  {
   "cell_type": "code",
   "execution_count": 89,
   "metadata": {},
   "outputs": [
    {
     "data": {
      "text/plain": [
       "6"
      ]
     },
     "execution_count": 89,
     "metadata": {},
     "output_type": "execute_result"
    }
   ],
   "source": [
    "#to find least number\n",
    "def secondleast(lst):\n",
    "    lst.sort()\n",
    "    return lst[1]\n",
    "def genericleast(lst,n):\n",
    "    lst.sort()\n",
    "    return lst[n-1]\n",
    "lst=[1,19,6,2,8,18,3]\n",
    "genericleast(lst,4)"
   ]
  },
  {
   "cell_type": "markdown",
   "metadata": {},
   "source": [
    "## algorithm search\n",
    "* linear search\n",
    "* binary search"
   ]
  },
  {
   "cell_type": "markdown",
   "metadata": {},
   "source": [
    "## linear search\n",
    "* linear search algorithm can be applied on duplicate and unique list\n",
    " *    unique list:the all items of list apears only once\n",
    " *    dulpicate list: the items of list aperars more than one time\n",
    "* linear search algorithm can be applied on sorted list or unsorted list"
   ]
  },
  {
   "cell_type": "code",
   "execution_count": 6,
   "metadata": {},
   "outputs": [
    {
     "data": {
      "text/plain": [
       "-1"
      ]
     },
     "execution_count": 6,
     "metadata": {},
     "output_type": "execute_result"
    }
   ],
   "source": [
    "# function to search the data in a list\n",
    "# search is found then return the index if not return -1\n",
    "def linearsearch(li,taritem):\n",
    "    for x in range(len(li)):\n",
    "        if li[x]==taritem:\n",
    "            return x\n",
    "        return -1\n",
    "li=[1,19,6,2,8,18,3]\n",
    "linearsearch(li,5)"
   ]
  },
  {
   "cell_type": "code",
   "execution_count": 105,
   "metadata": {},
   "outputs": [
    {
     "name": "stdout",
     "output_type": "stream",
     "text": [
      "1 4 8 "
     ]
    }
   ],
   "source": [
    "#function\n",
    "# input:[1,5,9,6,5,15,1,2,5],key=5 # dulpicate\n",
    "# output:1 4 8\n",
    "def linearsearch2(li,tarItem):\n",
    "    for x in range(len(li)):\n",
    "        if li[x]==tarItem:\n",
    "            print(x,end=\" \")\n",
    "    return\n",
    "li=[1,5,9,6,5,15,1,2,5]\n",
    "linearsearch2(li,5)"
   ]
  },
  {
   "cell_type": "code",
   "execution_count": 124,
   "metadata": {},
   "outputs": [
    {
     "name": "stdout",
     "output_type": "stream",
     "text": [
      "!! !!!!! !!!!!!!!! "
     ]
    }
   ],
   "source": [
    "# function \n",
    "# input:list\n",
    "# output:sequence  of charecters\n",
    "def linearsearch3(li,taritem):\n",
    "    for x in range(len(li)):\n",
    "        if li[x]==taritem:\n",
    "            j=0\n",
    "            while j!=x+1:\n",
    "                print(\"!\",end=\"\")\n",
    "                j=j+1\n",
    "            print(end=\" \")\n",
    "    return\n",
    "li=[1,5,9,6,5,15,1,2,5]\n",
    "linearsearch3(li,5)"
   ]
  },
  {
   "cell_type": "code",
   "execution_count": 130,
   "metadata": {},
   "outputs": [
    {
     "data": {
      "text/plain": [
       "60"
      ]
     },
     "execution_count": 130,
     "metadata": {},
     "output_type": "execute_result"
    }
   ],
   "source": [
    "# function\n",
    "#input:list\n",
    "#output:formatted\n",
    "#test case:\n",
    "#[12,2,45,9,18,15,36]---60\n",
    "#a list item which is perfectly multiple of 3 and 5\n",
    "def linearsearch(li):\n",
    "    sum=0\n",
    "    for x in range(len(li)):\n",
    "        if (li[x])%3==0 and (li[x])%5==0:\n",
    "             sum+=li[x] \n",
    "    return sum\n",
    "li=[12,2,45,9,18,15,36]\n",
    "linearsearch(li)\n",
    "        "
   ]
  },
  {
   "cell_type": "code",
   "execution_count": 132,
   "metadata": {},
   "outputs": [
    {
     "name": "stdout",
     "output_type": "stream",
     "text": [
      "1 3 8 15 5 "
     ]
    }
   ],
   "source": [
    "# function\n",
    "# input :list\n",
    "#output: formmated output\n",
    "#testcase:\n",
    "#[1,2,3,4,5]---[1,3,8,15,5]\n",
    "#[6,5,2,8,2]---[6,12,40,4,2]\n",
    "def linearsearches(li):\n",
    "    for x in range(len(li)):\n",
    "        if x==0 or x==len(li)-1:\n",
    "            print(li[x],end=\" \")\n",
    "        else:\n",
    "            print(li[x-1]*li[x+1],end=\" \")\n",
    "    return\n",
    "li=[1,2,3,4,5]\n",
    "linearsearches(li)"
   ]
  },
  {
   "cell_type": "markdown",
   "metadata": {},
   "source": [
    "## number to list\n",
    "* input as number\n",
    "* expected output is list"
   ]
  },
  {
   "cell_type": "code",
   "execution_count": 9,
   "metadata": {},
   "outputs": [
    {
     "data": {
      "text/plain": [
       "[1, 4, 5, 6, 9]"
      ]
     },
     "execution_count": 9,
     "metadata": {},
     "output_type": "execute_result"
    }
   ],
   "source": [
    "# function for converstion-number to list\n",
    "# input--number\n",
    "# output--list\n",
    "# test cases:-\n",
    "# 14569--[1,4,5,6,9]\n",
    "# 1990--[1,9,9,0]\n",
    "def numblist(num):\n",
    "    li=[]\n",
    "    while num!=0:\n",
    "        r=num%10\n",
    "        li.append(r)\n",
    "        num=num//10\n",
    "    li.reverse()\n",
    "    return li\n",
    "numblist(14569)"
   ]
  },
  {
   "cell_type": "code",
   "execution_count": 10,
   "metadata": {},
   "outputs": [
    {
     "data": {
      "text/plain": [
       "2"
      ]
     },
     "execution_count": 10,
     "metadata": {},
     "output_type": "execute_result"
    }
   ],
   "source": [
    "# function to count the occurance of a charecters in a string\n",
    "# \"python programming\", p->2\n",
    "# \"python programming\",m->2\n",
    "def countcharoccarance(s,c):\n",
    "    cnt=0\n",
    "    for ch in s:\n",
    "        if ch==c:\n",
    "            cnt+=1\n",
    "    return cnt\n",
    "countcharoccarance(\"python programming\",'m')"
   ]
  },
  {
   "cell_type": "code",
   "execution_count": 12,
   "metadata": {},
   "outputs": [
    {
     "data": {
      "text/plain": [
       "2"
      ]
     },
     "execution_count": 12,
     "metadata": {},
     "output_type": "execute_result"
    }
   ],
   "source": [
    "def countcharoccarance(s,c):\n",
    "    cnt=0\n",
    "    for ch in s:\n",
    "        if ch==c:\n",
    "            cnt+=1\n",
    "    return cnt\n",
    "def countcharoccaranc1(s,c):\n",
    "    return s.count(c)\n",
    "countcharoccaranc1(\"python programming\",'m')"
   ]
  },
  {
   "cell_type": "markdown",
   "metadata": {},
   "source": [
    "## srting to list conversion\n",
    "* input will be string\n",
    "* expected output will be list\n"
   ]
  },
  {
   "cell_type": "code",
   "execution_count": 14,
   "metadata": {},
   "outputs": [
    {
     "data": {
      "text/plain": [
       "[1, 2, 3, 4, 5, 6]"
      ]
     },
     "execution_count": 14,
     "metadata": {},
     "output_type": "execute_result"
    }
   ],
   "source": [
    "# function to convert the string to list\n",
    "# testcase\n",
    "# \"1 2 3 4 5 6\"---[1,2,3,4,5,6]\n",
    "def stringtolistconversion(s):\n",
    "    li=s.split()\n",
    "    numberlist=[]\n",
    "    for i in li:\n",
    "        numberlist.append(int(i))\n",
    "    return numberlist\n",
    "s=\"1 2 3 4 5 6\"\n",
    "stringtolistconversion(s)"
   ]
  },
  {
   "cell_type": "markdown",
   "metadata": {},
   "source": [
    "## sorting algorithms:\n",
    "* bubbe sort\n",
    "* selection sort\n",
    "* insertion sort"
   ]
  },
  {
   "cell_type": "markdown",
   "metadata": {},
   "source": [
    "## bubble sort :-\n",
    "* this algorithm compares the adj element, if the first element is greater\n",
    "* "
   ]
  },
  {
   "cell_type": "code",
   "execution_count": 15,
   "metadata": {},
   "outputs": [
    {
     "data": {
      "text/plain": [
       "[1, 3, 6, 18, 19, 25]"
      ]
     },
     "execution_count": 15,
     "metadata": {},
     "output_type": "execute_result"
    }
   ],
   "source": [
    "# function to represent the bubble sort\n",
    "def bubblesort(li):\n",
    "    for i in range(len(li)-1):\n",
    "        for j in range(len(li)-1):\n",
    "            if li[j]>li[j+1]:\n",
    "                li[j],li[j+1]=li[j+1],li[j]\n",
    "    return li\n",
    "li=[19,1,25,6,18,3]\n",
    "bubblesort(li)"
   ]
  },
  {
   "cell_type": "code",
   "execution_count": 20,
   "metadata": {},
   "outputs": [
    {
     "ename": "IndentationError",
     "evalue": "expected an indented block (<ipython-input-20-e09f8fa7e148>, line 5)",
     "output_type": "error",
     "traceback": [
      "\u001b[1;36m  File \u001b[1;32m\"<ipython-input-20-e09f8fa7e148>\"\u001b[1;36m, line \u001b[1;32m5\u001b[0m\n\u001b[1;33m    print(li[i],end=\"\")\u001b[0m\n\u001b[1;37m    ^\u001b[0m\n\u001b[1;31mIndentationError\u001b[0m\u001b[1;31m:\u001b[0m expected an indented block\n"
     ]
    }
   ],
   "source": [
    "# [1,4,5,6,9]  - 46(Consider only even numbers from list)\n",
    "def evennumber(li):\n",
    "    for i in range(len(li)):\n",
    "        if li[i]%2==0:\n",
    "    print(li[i],end=\"\")\n",
    "    return\n",
    "li=[1,4,5,6,9]\n",
    "evennumber(li)"
   ]
  },
  {
   "cell_type": "code",
   "execution_count": null,
   "metadata": {},
   "outputs": [],
   "source": []
  },
  {
   "cell_type": "code",
   "execution_count": null,
   "metadata": {},
   "outputs": [],
   "source": []
  },
  {
   "cell_type": "code",
   "execution_count": null,
   "metadata": {},
   "outputs": [],
   "source": []
  }
 ],
 "metadata": {
  "kernelspec": {
   "display_name": "Python 3",
   "language": "python",
   "name": "python3"
  },
  "language_info": {
   "codemirror_mode": {
    "name": "ipython",
    "version": 3
   },
   "file_extension": ".py",
   "mimetype": "text/x-python",
   "name": "python",
   "nbconvert_exporter": "python",
   "pygments_lexer": "ipython3",
   "version": "3.7.3"
  }
 },
 "nbformat": 4,
 "nbformat_minor": 2
}
